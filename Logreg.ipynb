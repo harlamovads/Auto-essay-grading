{
  "nbformat": 4,
  "nbformat_minor": 0,
  "metadata": {
    "colab": {
      "provenance": []
    },
    "kernelspec": {
      "name": "python3",
      "display_name": "Python 3"
    },
    "language_info": {
      "name": "python"
    },
    "widgets": {
      "application/vnd.jupyter.widget-state+json": {
        "c22d1759eb9e45149c3842d4fbd78414": {
          "model_module": "@jupyter-widgets/controls",
          "model_name": "HBoxModel",
          "model_module_version": "1.5.0",
          "state": {
            "_dom_classes": [],
            "_model_module": "@jupyter-widgets/controls",
            "_model_module_version": "1.5.0",
            "_model_name": "HBoxModel",
            "_view_count": null,
            "_view_module": "@jupyter-widgets/controls",
            "_view_module_version": "1.5.0",
            "_view_name": "HBoxView",
            "box_style": "",
            "children": [
              "IPY_MODEL_854adba1a7ae46ee9c6d91c9dcf1c94f",
              "IPY_MODEL_08efdf0cb19f49bca83f3aa1a56fda78",
              "IPY_MODEL_a9cf553cd7554033b913acfff939409a"
            ],
            "layout": "IPY_MODEL_074b390ad09f48c5b317bef2dfb184e8"
          }
        },
        "854adba1a7ae46ee9c6d91c9dcf1c94f": {
          "model_module": "@jupyter-widgets/controls",
          "model_name": "HTMLModel",
          "model_module_version": "1.5.0",
          "state": {
            "_dom_classes": [],
            "_model_module": "@jupyter-widgets/controls",
            "_model_module_version": "1.5.0",
            "_model_name": "HTMLModel",
            "_view_count": null,
            "_view_module": "@jupyter-widgets/controls",
            "_view_module_version": "1.5.0",
            "_view_name": "HTMLView",
            "description": "",
            "description_tooltip": null,
            "layout": "IPY_MODEL_63ac7f3827974f2e8a66452986173411",
            "placeholder": "​",
            "style": "IPY_MODEL_2a59207ec5b6435fa1c450c121dfaffc",
            "value": "100%"
          }
        },
        "08efdf0cb19f49bca83f3aa1a56fda78": {
          "model_module": "@jupyter-widgets/controls",
          "model_name": "FloatProgressModel",
          "model_module_version": "1.5.0",
          "state": {
            "_dom_classes": [],
            "_model_module": "@jupyter-widgets/controls",
            "_model_module_version": "1.5.0",
            "_model_name": "FloatProgressModel",
            "_view_count": null,
            "_view_module": "@jupyter-widgets/controls",
            "_view_module_version": "1.5.0",
            "_view_name": "ProgressView",
            "bar_style": "success",
            "description": "",
            "description_tooltip": null,
            "layout": "IPY_MODEL_e0731cbb5c1844e180fa43ac52f506b5",
            "max": 10,
            "min": 0,
            "orientation": "horizontal",
            "style": "IPY_MODEL_340f0f04d3534743998579e7d15826d2",
            "value": 10
          }
        },
        "a9cf553cd7554033b913acfff939409a": {
          "model_module": "@jupyter-widgets/controls",
          "model_name": "HTMLModel",
          "model_module_version": "1.5.0",
          "state": {
            "_dom_classes": [],
            "_model_module": "@jupyter-widgets/controls",
            "_model_module_version": "1.5.0",
            "_model_name": "HTMLModel",
            "_view_count": null,
            "_view_module": "@jupyter-widgets/controls",
            "_view_module_version": "1.5.0",
            "_view_name": "HTMLView",
            "description": "",
            "description_tooltip": null,
            "layout": "IPY_MODEL_bbad5dac0d584c89b041b23de818e7dc",
            "placeholder": "​",
            "style": "IPY_MODEL_8ca731a21c564c8080e62f43a8f9ccb7",
            "value": " 10/10 [00:00&lt;00:00, 112.98it/s]"
          }
        },
        "074b390ad09f48c5b317bef2dfb184e8": {
          "model_module": "@jupyter-widgets/base",
          "model_name": "LayoutModel",
          "model_module_version": "1.2.0",
          "state": {
            "_model_module": "@jupyter-widgets/base",
            "_model_module_version": "1.2.0",
            "_model_name": "LayoutModel",
            "_view_count": null,
            "_view_module": "@jupyter-widgets/base",
            "_view_module_version": "1.2.0",
            "_view_name": "LayoutView",
            "align_content": null,
            "align_items": null,
            "align_self": null,
            "border": null,
            "bottom": null,
            "display": null,
            "flex": null,
            "flex_flow": null,
            "grid_area": null,
            "grid_auto_columns": null,
            "grid_auto_flow": null,
            "grid_auto_rows": null,
            "grid_column": null,
            "grid_gap": null,
            "grid_row": null,
            "grid_template_areas": null,
            "grid_template_columns": null,
            "grid_template_rows": null,
            "height": null,
            "justify_content": null,
            "justify_items": null,
            "left": null,
            "margin": null,
            "max_height": null,
            "max_width": null,
            "min_height": null,
            "min_width": null,
            "object_fit": null,
            "object_position": null,
            "order": null,
            "overflow": null,
            "overflow_x": null,
            "overflow_y": null,
            "padding": null,
            "right": null,
            "top": null,
            "visibility": null,
            "width": null
          }
        },
        "63ac7f3827974f2e8a66452986173411": {
          "model_module": "@jupyter-widgets/base",
          "model_name": "LayoutModel",
          "model_module_version": "1.2.0",
          "state": {
            "_model_module": "@jupyter-widgets/base",
            "_model_module_version": "1.2.0",
            "_model_name": "LayoutModel",
            "_view_count": null,
            "_view_module": "@jupyter-widgets/base",
            "_view_module_version": "1.2.0",
            "_view_name": "LayoutView",
            "align_content": null,
            "align_items": null,
            "align_self": null,
            "border": null,
            "bottom": null,
            "display": null,
            "flex": null,
            "flex_flow": null,
            "grid_area": null,
            "grid_auto_columns": null,
            "grid_auto_flow": null,
            "grid_auto_rows": null,
            "grid_column": null,
            "grid_gap": null,
            "grid_row": null,
            "grid_template_areas": null,
            "grid_template_columns": null,
            "grid_template_rows": null,
            "height": null,
            "justify_content": null,
            "justify_items": null,
            "left": null,
            "margin": null,
            "max_height": null,
            "max_width": null,
            "min_height": null,
            "min_width": null,
            "object_fit": null,
            "object_position": null,
            "order": null,
            "overflow": null,
            "overflow_x": null,
            "overflow_y": null,
            "padding": null,
            "right": null,
            "top": null,
            "visibility": null,
            "width": null
          }
        },
        "2a59207ec5b6435fa1c450c121dfaffc": {
          "model_module": "@jupyter-widgets/controls",
          "model_name": "DescriptionStyleModel",
          "model_module_version": "1.5.0",
          "state": {
            "_model_module": "@jupyter-widgets/controls",
            "_model_module_version": "1.5.0",
            "_model_name": "DescriptionStyleModel",
            "_view_count": null,
            "_view_module": "@jupyter-widgets/base",
            "_view_module_version": "1.2.0",
            "_view_name": "StyleView",
            "description_width": ""
          }
        },
        "e0731cbb5c1844e180fa43ac52f506b5": {
          "model_module": "@jupyter-widgets/base",
          "model_name": "LayoutModel",
          "model_module_version": "1.2.0",
          "state": {
            "_model_module": "@jupyter-widgets/base",
            "_model_module_version": "1.2.0",
            "_model_name": "LayoutModel",
            "_view_count": null,
            "_view_module": "@jupyter-widgets/base",
            "_view_module_version": "1.2.0",
            "_view_name": "LayoutView",
            "align_content": null,
            "align_items": null,
            "align_self": null,
            "border": null,
            "bottom": null,
            "display": null,
            "flex": null,
            "flex_flow": null,
            "grid_area": null,
            "grid_auto_columns": null,
            "grid_auto_flow": null,
            "grid_auto_rows": null,
            "grid_column": null,
            "grid_gap": null,
            "grid_row": null,
            "grid_template_areas": null,
            "grid_template_columns": null,
            "grid_template_rows": null,
            "height": null,
            "justify_content": null,
            "justify_items": null,
            "left": null,
            "margin": null,
            "max_height": null,
            "max_width": null,
            "min_height": null,
            "min_width": null,
            "object_fit": null,
            "object_position": null,
            "order": null,
            "overflow": null,
            "overflow_x": null,
            "overflow_y": null,
            "padding": null,
            "right": null,
            "top": null,
            "visibility": null,
            "width": null
          }
        },
        "340f0f04d3534743998579e7d15826d2": {
          "model_module": "@jupyter-widgets/controls",
          "model_name": "ProgressStyleModel",
          "model_module_version": "1.5.0",
          "state": {
            "_model_module": "@jupyter-widgets/controls",
            "_model_module_version": "1.5.0",
            "_model_name": "ProgressStyleModel",
            "_view_count": null,
            "_view_module": "@jupyter-widgets/base",
            "_view_module_version": "1.2.0",
            "_view_name": "StyleView",
            "bar_color": null,
            "description_width": ""
          }
        },
        "bbad5dac0d584c89b041b23de818e7dc": {
          "model_module": "@jupyter-widgets/base",
          "model_name": "LayoutModel",
          "model_module_version": "1.2.0",
          "state": {
            "_model_module": "@jupyter-widgets/base",
            "_model_module_version": "1.2.0",
            "_model_name": "LayoutModel",
            "_view_count": null,
            "_view_module": "@jupyter-widgets/base",
            "_view_module_version": "1.2.0",
            "_view_name": "LayoutView",
            "align_content": null,
            "align_items": null,
            "align_self": null,
            "border": null,
            "bottom": null,
            "display": null,
            "flex": null,
            "flex_flow": null,
            "grid_area": null,
            "grid_auto_columns": null,
            "grid_auto_flow": null,
            "grid_auto_rows": null,
            "grid_column": null,
            "grid_gap": null,
            "grid_row": null,
            "grid_template_areas": null,
            "grid_template_columns": null,
            "grid_template_rows": null,
            "height": null,
            "justify_content": null,
            "justify_items": null,
            "left": null,
            "margin": null,
            "max_height": null,
            "max_width": null,
            "min_height": null,
            "min_width": null,
            "object_fit": null,
            "object_position": null,
            "order": null,
            "overflow": null,
            "overflow_x": null,
            "overflow_y": null,
            "padding": null,
            "right": null,
            "top": null,
            "visibility": null,
            "width": null
          }
        },
        "8ca731a21c564c8080e62f43a8f9ccb7": {
          "model_module": "@jupyter-widgets/controls",
          "model_name": "DescriptionStyleModel",
          "model_module_version": "1.5.0",
          "state": {
            "_model_module": "@jupyter-widgets/controls",
            "_model_module_version": "1.5.0",
            "_model_name": "DescriptionStyleModel",
            "_view_count": null,
            "_view_module": "@jupyter-widgets/base",
            "_view_module_version": "1.2.0",
            "_view_name": "StyleView",
            "description_width": ""
          }
        },
        "c9589c2c9fc843c79c0fc76e38c68bf6": {
          "model_module": "@jupyter-widgets/controls",
          "model_name": "HBoxModel",
          "model_module_version": "1.5.0",
          "state": {
            "_dom_classes": [],
            "_model_module": "@jupyter-widgets/controls",
            "_model_module_version": "1.5.0",
            "_model_name": "HBoxModel",
            "_view_count": null,
            "_view_module": "@jupyter-widgets/controls",
            "_view_module_version": "1.5.0",
            "_view_name": "HBoxView",
            "box_style": "",
            "children": [
              "IPY_MODEL_cfd4e5fde2194aaebf5f59acad3a8022",
              "IPY_MODEL_49b7f04cc47e4b3e8589ae3a60bd6c3a",
              "IPY_MODEL_1e7ae0720f154e37b63d1ff8a50193f7"
            ],
            "layout": "IPY_MODEL_0f1285b78894481d97e7927d8db7e7d9"
          }
        },
        "cfd4e5fde2194aaebf5f59acad3a8022": {
          "model_module": "@jupyter-widgets/controls",
          "model_name": "HTMLModel",
          "model_module_version": "1.5.0",
          "state": {
            "_dom_classes": [],
            "_model_module": "@jupyter-widgets/controls",
            "_model_module_version": "1.5.0",
            "_model_name": "HTMLModel",
            "_view_count": null,
            "_view_module": "@jupyter-widgets/controls",
            "_view_module_version": "1.5.0",
            "_view_name": "HTMLView",
            "description": "",
            "description_tooltip": null,
            "layout": "IPY_MODEL_e23a5e9413d645ce845a87116b08961a",
            "placeholder": "​",
            "style": "IPY_MODEL_e32a9741ccce4e43b306634d0a3a669b",
            "value": "100%"
          }
        },
        "49b7f04cc47e4b3e8589ae3a60bd6c3a": {
          "model_module": "@jupyter-widgets/controls",
          "model_name": "FloatProgressModel",
          "model_module_version": "1.5.0",
          "state": {
            "_dom_classes": [],
            "_model_module": "@jupyter-widgets/controls",
            "_model_module_version": "1.5.0",
            "_model_name": "FloatProgressModel",
            "_view_count": null,
            "_view_module": "@jupyter-widgets/controls",
            "_view_module_version": "1.5.0",
            "_view_name": "ProgressView",
            "bar_style": "success",
            "description": "",
            "description_tooltip": null,
            "layout": "IPY_MODEL_f268a4f2ca2d4e58bcfddf38d2121ed3",
            "max": 17307,
            "min": 0,
            "orientation": "horizontal",
            "style": "IPY_MODEL_a54c9f4330344096ae9cacbe141dc2dd",
            "value": 17307
          }
        },
        "1e7ae0720f154e37b63d1ff8a50193f7": {
          "model_module": "@jupyter-widgets/controls",
          "model_name": "HTMLModel",
          "model_module_version": "1.5.0",
          "state": {
            "_dom_classes": [],
            "_model_module": "@jupyter-widgets/controls",
            "_model_module_version": "1.5.0",
            "_model_name": "HTMLModel",
            "_view_count": null,
            "_view_module": "@jupyter-widgets/controls",
            "_view_module_version": "1.5.0",
            "_view_name": "HTMLView",
            "description": "",
            "description_tooltip": null,
            "layout": "IPY_MODEL_d3e5d14fce954bf09ab6c8c7c280b02b",
            "placeholder": "​",
            "style": "IPY_MODEL_19d83fc16a39486c8f04e1c9f6c6a970",
            "value": " 17307/17307 [01:05&lt;00:00, 171.64it/s]"
          }
        },
        "0f1285b78894481d97e7927d8db7e7d9": {
          "model_module": "@jupyter-widgets/base",
          "model_name": "LayoutModel",
          "model_module_version": "1.2.0",
          "state": {
            "_model_module": "@jupyter-widgets/base",
            "_model_module_version": "1.2.0",
            "_model_name": "LayoutModel",
            "_view_count": null,
            "_view_module": "@jupyter-widgets/base",
            "_view_module_version": "1.2.0",
            "_view_name": "LayoutView",
            "align_content": null,
            "align_items": null,
            "align_self": null,
            "border": null,
            "bottom": null,
            "display": null,
            "flex": null,
            "flex_flow": null,
            "grid_area": null,
            "grid_auto_columns": null,
            "grid_auto_flow": null,
            "grid_auto_rows": null,
            "grid_column": null,
            "grid_gap": null,
            "grid_row": null,
            "grid_template_areas": null,
            "grid_template_columns": null,
            "grid_template_rows": null,
            "height": null,
            "justify_content": null,
            "justify_items": null,
            "left": null,
            "margin": null,
            "max_height": null,
            "max_width": null,
            "min_height": null,
            "min_width": null,
            "object_fit": null,
            "object_position": null,
            "order": null,
            "overflow": null,
            "overflow_x": null,
            "overflow_y": null,
            "padding": null,
            "right": null,
            "top": null,
            "visibility": null,
            "width": null
          }
        },
        "e23a5e9413d645ce845a87116b08961a": {
          "model_module": "@jupyter-widgets/base",
          "model_name": "LayoutModel",
          "model_module_version": "1.2.0",
          "state": {
            "_model_module": "@jupyter-widgets/base",
            "_model_module_version": "1.2.0",
            "_model_name": "LayoutModel",
            "_view_count": null,
            "_view_module": "@jupyter-widgets/base",
            "_view_module_version": "1.2.0",
            "_view_name": "LayoutView",
            "align_content": null,
            "align_items": null,
            "align_self": null,
            "border": null,
            "bottom": null,
            "display": null,
            "flex": null,
            "flex_flow": null,
            "grid_area": null,
            "grid_auto_columns": null,
            "grid_auto_flow": null,
            "grid_auto_rows": null,
            "grid_column": null,
            "grid_gap": null,
            "grid_row": null,
            "grid_template_areas": null,
            "grid_template_columns": null,
            "grid_template_rows": null,
            "height": null,
            "justify_content": null,
            "justify_items": null,
            "left": null,
            "margin": null,
            "max_height": null,
            "max_width": null,
            "min_height": null,
            "min_width": null,
            "object_fit": null,
            "object_position": null,
            "order": null,
            "overflow": null,
            "overflow_x": null,
            "overflow_y": null,
            "padding": null,
            "right": null,
            "top": null,
            "visibility": null,
            "width": null
          }
        },
        "e32a9741ccce4e43b306634d0a3a669b": {
          "model_module": "@jupyter-widgets/controls",
          "model_name": "DescriptionStyleModel",
          "model_module_version": "1.5.0",
          "state": {
            "_model_module": "@jupyter-widgets/controls",
            "_model_module_version": "1.5.0",
            "_model_name": "DescriptionStyleModel",
            "_view_count": null,
            "_view_module": "@jupyter-widgets/base",
            "_view_module_version": "1.2.0",
            "_view_name": "StyleView",
            "description_width": ""
          }
        },
        "f268a4f2ca2d4e58bcfddf38d2121ed3": {
          "model_module": "@jupyter-widgets/base",
          "model_name": "LayoutModel",
          "model_module_version": "1.2.0",
          "state": {
            "_model_module": "@jupyter-widgets/base",
            "_model_module_version": "1.2.0",
            "_model_name": "LayoutModel",
            "_view_count": null,
            "_view_module": "@jupyter-widgets/base",
            "_view_module_version": "1.2.0",
            "_view_name": "LayoutView",
            "align_content": null,
            "align_items": null,
            "align_self": null,
            "border": null,
            "bottom": null,
            "display": null,
            "flex": null,
            "flex_flow": null,
            "grid_area": null,
            "grid_auto_columns": null,
            "grid_auto_flow": null,
            "grid_auto_rows": null,
            "grid_column": null,
            "grid_gap": null,
            "grid_row": null,
            "grid_template_areas": null,
            "grid_template_columns": null,
            "grid_template_rows": null,
            "height": null,
            "justify_content": null,
            "justify_items": null,
            "left": null,
            "margin": null,
            "max_height": null,
            "max_width": null,
            "min_height": null,
            "min_width": null,
            "object_fit": null,
            "object_position": null,
            "order": null,
            "overflow": null,
            "overflow_x": null,
            "overflow_y": null,
            "padding": null,
            "right": null,
            "top": null,
            "visibility": null,
            "width": null
          }
        },
        "a54c9f4330344096ae9cacbe141dc2dd": {
          "model_module": "@jupyter-widgets/controls",
          "model_name": "ProgressStyleModel",
          "model_module_version": "1.5.0",
          "state": {
            "_model_module": "@jupyter-widgets/controls",
            "_model_module_version": "1.5.0",
            "_model_name": "ProgressStyleModel",
            "_view_count": null,
            "_view_module": "@jupyter-widgets/base",
            "_view_module_version": "1.2.0",
            "_view_name": "StyleView",
            "bar_color": null,
            "description_width": ""
          }
        },
        "d3e5d14fce954bf09ab6c8c7c280b02b": {
          "model_module": "@jupyter-widgets/base",
          "model_name": "LayoutModel",
          "model_module_version": "1.2.0",
          "state": {
            "_model_module": "@jupyter-widgets/base",
            "_model_module_version": "1.2.0",
            "_model_name": "LayoutModel",
            "_view_count": null,
            "_view_module": "@jupyter-widgets/base",
            "_view_module_version": "1.2.0",
            "_view_name": "LayoutView",
            "align_content": null,
            "align_items": null,
            "align_self": null,
            "border": null,
            "bottom": null,
            "display": null,
            "flex": null,
            "flex_flow": null,
            "grid_area": null,
            "grid_auto_columns": null,
            "grid_auto_flow": null,
            "grid_auto_rows": null,
            "grid_column": null,
            "grid_gap": null,
            "grid_row": null,
            "grid_template_areas": null,
            "grid_template_columns": null,
            "grid_template_rows": null,
            "height": null,
            "justify_content": null,
            "justify_items": null,
            "left": null,
            "margin": null,
            "max_height": null,
            "max_width": null,
            "min_height": null,
            "min_width": null,
            "object_fit": null,
            "object_position": null,
            "order": null,
            "overflow": null,
            "overflow_x": null,
            "overflow_y": null,
            "padding": null,
            "right": null,
            "top": null,
            "visibility": null,
            "width": null
          }
        },
        "19d83fc16a39486c8f04e1c9f6c6a970": {
          "model_module": "@jupyter-widgets/controls",
          "model_name": "DescriptionStyleModel",
          "model_module_version": "1.5.0",
          "state": {
            "_model_module": "@jupyter-widgets/controls",
            "_model_module_version": "1.5.0",
            "_model_name": "DescriptionStyleModel",
            "_view_count": null,
            "_view_module": "@jupyter-widgets/base",
            "_view_module_version": "1.2.0",
            "_view_name": "StyleView",
            "description_width": ""
          }
        }
      }
    }
  },
  "cells": [
    {
      "cell_type": "code",
      "source": [
        "import pandas as pd"
      ],
      "metadata": {
        "id": "fcqlONJTABi5"
      },
      "execution_count": 1,
      "outputs": []
    },
    {
      "cell_type": "code",
      "source": [
        "import spacy\n",
        "from spacy.lang.en.stop_words import STOP_WORDS\n",
        "from string import punctuation\n",
        "from sklearn.linear_model import LogisticRegression\n",
        "from sklearn.feature_extraction.text import TfidfVectorizer\n",
        "from sklearn.pipeline import Pipeline\n",
        "from sklearn.metrics import confusion_matrix, classification_report, accuracy_score\n",
        "from sklearn.model_selection import train_test_split\n",
        "from sklearn.ensemble import GradientBoostingClassifier"
      ],
      "metadata": {
        "id": "DAi3LA3TCGef"
      },
      "execution_count": 2,
      "outputs": []
    },
    {
      "cell_type": "code",
      "source": [
        "from tqdm.notebook import tqdm\n",
        "import nltk\n",
        "nltk.download('punkt')"
      ],
      "metadata": {
        "colab": {
          "base_uri": "https://localhost:8080/",
          "height": 0
        },
        "id": "bDTWT9xY5pFe",
        "outputId": "337fc3a5-479e-4186-83cb-f4f0af6293cf"
      },
      "execution_count": 3,
      "outputs": [
        {
          "output_type": "stream",
          "name": "stderr",
          "text": [
            "[nltk_data] Downloading package punkt to /root/nltk_data...\n",
            "[nltk_data]   Unzipping tokenizers/punkt.zip.\n"
          ]
        },
        {
          "output_type": "execute_result",
          "data": {
            "text/plain": [
              "True"
            ]
          },
          "metadata": {},
          "execution_count": 3
        }
      ]
    },
    {
      "cell_type": "code",
      "source": [
        "def preprocess(reviews):\n",
        "    new_data = []\n",
        "    for text in tqdm(reviews):\n",
        "        text_new = \"\"\n",
        "        for i in nltk.word_tokenize(text.lower()):\n",
        "            if i not in punctuation:\n",
        "                text_new += i + \" \"\n",
        "        new_data.append(text_new)\n",
        "    return new_data"
      ],
      "metadata": {
        "id": "Ic4Oqq_d_-ah"
      },
      "execution_count": 10,
      "outputs": []
    },
    {
      "cell_type": "code",
      "source": [
        "data = pd.read_csv(\"/content/train.csv\")"
      ],
      "metadata": {
        "id": "pINQ_o7bhMf9"
      },
      "execution_count": 6,
      "outputs": []
    },
    {
      "cell_type": "code",
      "source": [
        "print(preprocess(data['full_text'][0:10]))"
      ],
      "metadata": {
        "colab": {
          "base_uri": "https://localhost:8080/",
          "height": 86,
          "referenced_widgets": [
            "c22d1759eb9e45149c3842d4fbd78414",
            "854adba1a7ae46ee9c6d91c9dcf1c94f",
            "08efdf0cb19f49bca83f3aa1a56fda78",
            "a9cf553cd7554033b913acfff939409a",
            "074b390ad09f48c5b317bef2dfb184e8",
            "63ac7f3827974f2e8a66452986173411",
            "2a59207ec5b6435fa1c450c121dfaffc",
            "e0731cbb5c1844e180fa43ac52f506b5",
            "340f0f04d3534743998579e7d15826d2",
            "bbad5dac0d584c89b041b23de818e7dc",
            "8ca731a21c564c8080e62f43a8f9ccb7"
          ]
        },
        "id": "1JxdmxdVDvoe",
        "outputId": "83dfaba7-27b8-482f-c33c-e46053ddd3de"
      },
      "execution_count": 11,
      "outputs": [
        {
          "output_type": "display_data",
          "data": {
            "text/plain": [
              "  0%|          | 0/10 [00:00<?, ?it/s]"
            ],
            "application/vnd.jupyter.widget-view+json": {
              "version_major": 2,
              "version_minor": 0,
              "model_id": "c22d1759eb9e45149c3842d4fbd78414"
            }
          },
          "metadata": {}
        },
        {
          "output_type": "stream",
          "name": "stdout",
          "text": [
            "[\"many people have car where they live the thing they do n't know is that when you use a car alot of thing can happen like you can get in accidet or the smoke that the car has is bad to breath on if someone is walk but in vauban germany they dont have that proble because 70 percent of vauban 's families do not own cars and 57 percent sold a car to move there street parkig driveways and home garages are forbidden on the outskirts of freiburd that near the french and swiss borders you probaly wo n't see a car in vauban 's streets because they are completely `` car free '' but if some that lives in vauban that owns a car ownership is allowed but there are only two places that you can park a large garages at the edge of the development where a car owner buys a space but it not cheap to buy one they sell the space for you car for 40,000 along with a home the vauban people completed this in 2006 they said that this an example of a growing trend in europe the untile states and some where else are suburban life from auto use this is called `` smart planning '' the current efforts to drastically reduce greenhouse gas emissions from tailes the passengee cars are responsible for 12 percent of greenhouse gas emissions in europe and up to 50 percent in some car intensive in the united states i honeslty think that good idea that they did that is vaudan because that makes cities denser and better for walking and in vauban there are 5,500 residents within a rectangular square mile in the artical david gold berg said that `` all of our development since world war 2 has been centered on the cars and that will have to change '' and i think that was very true what david gold said because alot thing we need cars to do we can go anyway were with out cars beacuse some people are a very lazy to walk to place thats why they alot of people use car and i think that it was a good idea that that they did that in vauban so people can see how we really do n't need car to go to place from place because we can walk from were we need to go or we can ride bycles with out the use of a car it good that they are doing that if you thik about your help the earth in way and thats a very good thing to in the united states the environmental protection agency is promoting what is called `` car reduced '' communtunties and the legislators are starting to act if cautiously maany experts expect pubic transport serving suburbs to play a much larger role in a new six years federal transportation bill to approved this year in previous bill,80 percent of appropriations have by law gone to highways and only 20 percent to other transports there many good reason why they should do this \", \"i am a scientist at nasa that is discussing the `` face '' on mars i will be explaining how the `` face '' is a land form by sharing my information about this isue i will tell you just that first off how could it be a martions drawing there is no plant life on mars as of rite now that we know of which means so far as we know it is not possible for any type of life that explains how it could not be made by martians also why and how would a martion build a face so big it just does not make any since that a martian did this next why it is a landform there are many landforms that are weird here in america and there is also landforms all around the whole earth many of them look like something we can relate to like a snake a turtle a human ... so if there are landforms on earth dont you think landforms are on mars to of course why not it 's just unique that the landform on mars looks like a human face also if there was martians and they were trying to get our attention dont you think we would have saw one by now finaly why you should listen to me you should listen to me because i am a member of nasa and i 've been dealing with all of this stuff that were talking about and people who say martians did this have no relation with nasa and have never worked with anything to relate to this landform one last thing is that everyone working at nasa says the same thing i say that the `` face '' is just a landform to sum all this up the `` face '' on mars is a landform but others would like to beleive it 's a martian sculpture which every one that works at nasa says it 's a landform and they are all the ones working on the planet and taking pictures \", \"people always wish they had the same technology that they have seen in movies or the best new piece of technology that is all over social media however nobody seems to think of the risks that these kinds of new technologies may have cars have been around for many decades and now manufacturers are starting to get on the bandwagon and come up with the new and improved technology that they hope will appeal to everyone as of right now it seems as though the negative characteristics of these cars consume the positive idea that these manufacturers have tried to convey currently this new technology in cars has a very long way to go before being completely `` driverless '' drivers still need to be on alert when they are driving as well as control the car near any accidents or complicated traffic situations this seems to totally defeat the purpose of the `` driverless '' car eventually the technology may improve but nobody can be certain that the driverless car will eventually become completely `` driverless '' this idea just seems like a lot of hard work and money for something that is not very neccessary if someone does not want to drive their car they can just take a city bus or a subway there are so many options of transportation that can already solve this problem even if masnufacturers are trying to make driving more `` fun '' driving is not meant to be `` fun '' it is meant to get people where they need to go playing around in a car just to have `` fun '' is just a recipe for disaster the idea of the driverless car also raises many questions about who will be liable when someone gets into an accident in one of these new cars many states do not even let people drive semi-automatic cars because there are not even laws that pertain to the liability of anyone who get into an accident while driving these type of cars if these cars become more popular states may pass new laws however this topic also raises questions about who is able to dictate whether or not it was the car or the human 's fault for an accident since this technology is so new there could be many problems with the car 's system that nobody has even discovered since they have not drove the car themselves if someone test drives this kind of car or even purchases one and they get into a crash not knowing what could possibly happen to them they will want to sue the car manufacturer since they were not aware of any bugs in the car 's system these lawsuits can add up and eventually the manufactuers will be in a bunch of debt which could cost them their whole idea of the driverless car the technology car manufacturers are trying to develope may just be a diasaster in the making there are many alternative options of transportations if you do not feel like driving yourself and these options are way less expensive than buying a brand new car although this technology is relatively new we can not be certain that this new idea will even pay off in the end it may just be a waste of money and time sometimes the newest technology is not the most benefical \", \"we all heard about venus the planet without almost oxygen with earthquakes erupting volcanoes and temperatures average over 800 degrees fahrenheit but what if scientist project the futur into this planet through this article the author uses evidences appealing to reason and concession to make us realize why we should care about studying this planet so that people must give a chance to venus venus is the closest planet to earth in terms density and size but has a really different climate as it is evoked by the author 3 `` a thick atmosphere of almost 97 percent carbon dioxide blankets venus even more challenging are the clouds of highly corrosive sulfuric acid in venus ’ s atmosphere on the planet ’ s surface temperatures average over 800 degrees fahrenheit .... beyond high pressure and heat venusian geology and weather present additional impediments like erupting volcanoes powerful earthquakes and frequent lightning strikes to probes seeking to land on its surface '' the author uses of concession tell us what is the actual climate of venus he tell us the truth he support the fact that studying venus is a worthy pursuit but he also recognize that there 's a danger present continuously and because he support the idea of studying venus he proposes ways to study the planet and find a solution at a reasonable distance venus is an inhospitable planet that can almost be considered as an impossible dwelling for humans but for the author that ca n't keep scientist to do their job studying venus 5 `` nasa ’ s possible solution to the hostile conditions on the surface of venus would allow scientists to float above the fray imagine a blimp-like vehicle hovering 30 or so miles above the roiling venusian landscape just as our jet airplanes travel at a higher altitude to fly over many storms a vehicle hovering over venus would avoid the unfriendly ground conditions by staying up and out of their way at thirty-plus miles above the surface temperatures would still be toasty at around 170 degrees fahrenheit but the air pressure would be close to that of sea level on earth '' through this evidence appealing to reasonning the author talk about the nasa 's possible solution to raise his credibility but also to convince the audience that we can only find a solution by studying the planet in conclusion despite of venus hostility put in advance by the concession the author makes the audience realize that there 's a solution but that we can find it only if we study the planet he make us find out that challenge and curiosity is part of human life but also that danger and fear should not stop us from discovering new things after all we are humans \", \"dear state senator this is a letter to argue in favor of keeping the electoral college `` there are many reasons to keep the electoral college '' one reason is because it is widely regarded as an anachronism a dispute over the outcome of an electoral college vote is possible but it is less likely than a dispute over the popular vote and the electoral college restores some of the weight in the political balance that large states by population lose by virue of the mal apportionment of the senate decreed in the constitution i am in favor of keeping the electoral college because it is widely regarded as an anachronism a non-democratic method of selecting a president that ought to be overruled by declaring the canaditdate who receives the most populare votes the winner the advocates of this position are correct in arguing that the electoral college method is not democratic in a method sense.it is the electors who elect the the president not the people but each party selects a slate of electors trusted to vote for the party 's nominee and that trust is rarely betrayed another reason i am in favor of keeping the electoral college is because a dispute over the outcome of an electoral college vote is possible but it is less likely than a dispute over the popular vote but it is less likely than a dispute over the popular vote the reason is that the winning canadate 's share of the electoral college invariably exceeds his share of the popular vote last but not least i am in favor of keeping the electoral college is because the electoral college restores some of the weight in the political balance that large states by population lose by virue of the mal apportionment of the senate decreed in the constitution a larger state gets more attintion from presidential canadidates in a campaign than a small state does it can be argued that electoral college methods of selecting the president may turn off potential voters for a canadidates who has no hope of carrying their state but of course no voter 's vote swings a national election and in spite of that about 1/2 the eligible american population did vote in the 2012 's election from proper_name \", \"if i were to choose between keeping the electoral college or abolishing it i would chose for abolishing it the electoral college has a system that can be considered confusing to most americans this system indirectly transfers citizen 's votes to congress this allows for loopholes and sabaotage to be commited during the process of electing a president i propose abolishing the electoral college and replacing it with a simpler system that appeals to all united states citizens instead of just certain citizens based on phrases in the passage there is evidence that the electoral college system is corrupt an example would be back in 1960. segregationalists in the louisiana legislature nearly succeeded in relpacing the democratic electors with new electors who would oppose john f. kennedy so that a popular vote for kennedy would not have actually gone to kennedy -source 2 second paragraph this is stating that in 1960 people who opposed kennedy nearly became his electors so if they succeeded in becoming his electors his votes would have gone to another opposing candidate this could not happen with a system of voting that directly conected everyones votes with congress this was a clear case of sabotage in the election of 1960. votes in larger states and smaller states are balanced out so the number of votes would not be based on the number of people in the states this can be seen as a way to make sure that state votes did not compare to the population of said states in reality it is limiting the votes of citizens if people ignored how larger states had more people than smaller states and just thought of everyone as individuals everyone would have a say the system i am proposing does not view states as the voters but every american citizen as one after everyone passed their votes they would all be tallied and which ever candidate had the most votes would win you may think that the votes could be sabotaged and that politicians could put in fake votes and get rid of real ones this problem could be dealt with by maximized security there would be videocameras wherever the votes could be swaped i propose this system to ensure that every citizen has a vote and that corruption while transitioning the votes would be eliminated this would be a less confusing system that could make voting more efficient \", \"the posibilty of a face reconizing computer would be very helpful for children or even adults its would be helpful in a ways of satifying our needs and why showing us thing that would make going on the internet better i think that the face reconizing computer would be very reliable because in the text its says `` a class room computer could recognize when a student is confused or bored '' and if the students is `` confused and bored '' then the students is not really learning anything beacuse all children ca n't be taught the same way some children have trouble learning or its harder for those children to learn in a result of failing grades and low participation happening in the classroom in my conclusion i think that face reconizing computers would the best thing for students in way if a students were to not understand what her/she is learning in class the face reconizing computer could realize that the child does n't understand is and give more instructions on what to do for the topic or assingment the 're doing \", \"what is the seagoing cowboys progam it was to help many countries that had been scarred by world war ii these people helped with cattle and other animals that were shipped to europe to help them people were asked to help by the united nations relief and rehabilitation administration or unrra people should join the seagoing cowboys progam because you get to help other countries and people you get to see many parts of the world and you have fun if you are in the seagoing cowboys progam you can help other countries by giving them animals for food and work it makes you feel good about yourself the article says `` it made me more aware other countries and their needs '' that would make someone feel good about themselves for helping other countries would n't that make you feel good in the seagoing cowboys program you can see many parts of the world depending on where you are going you could see italy and other countries the article states `` besides helping people i had the benefit of seeing europe and china '' that would be very exciting how would you like to see a bunch of different countries while working you would n't have to pay for travel while working for this program you would also have fun the people aboard the ship would play games on the way back to get more animals the cowboys would also play baseball and other games in empty ship holds where the animals were on the way there also the article even states that they played games even though you are working you will still have fun so if you are in the seagoing cowboys program you will have fun you will feel good about yourself and you will also get to tour and visit many different parts of the world many people helped with the seagoing cowboys program they helped many countries in europe the cowboys still got to do what they always did help with animals so do you think that you would want to become a seagoing cowboy or at least be in the program \", \"the challenge of exploring venus this storie is about the challeng of exploring venus the auhor talked how venus is closest planet in earth the author support the idea by showing us how studying venus is a worthy pursuit despite the dangers in the story the author talked about how studying venus is worthy in the story the said `` venus has the hottest surface temperature of any planet in our scholar system the value of returning to venus seems indisputable but what are the options for making such a mission both safe scientifically productive this quotes revals that venus is worthy because people use for a lot things such as going to missions in the article the author taked about how venus is pursuit in the article the the author said nasa 's possible solution to the hostile conditions o the surface of venus would allow scientitis to float above the fray imagine a blimp-like vehicle hovering 30 or so miles above the roiling venusian landscape ths quotes means thta venus is pursuit because is halping people wiht the electronic such as vehicule in the story the author talked abouth how venus is despite in danger in the storis the author said '' beyond high presure and heat venusian geogoly and weather presentadditional impedimants like erupting volcanoes powerful earthquakes and frequent lihgtning strikes to probes seeking to lead on its surface by comparing system that use mechenical parts can be made more resistant to pressure heat and other foces '' this quotes mean that venus is despite in danger because it barley causes dager like other planet the author support the idea by showing us how venus is a worthy pursuit despite in danger in this storie the author talked how venus plante is different from the other planet in the earth surface the author also talked about hoe venus do n't cause volcanoes and earthquakes \", \"there are many reasons why you should join seagoing cowboys program you would be helping your country you 'd be traveling around the world last you 'd have lots of fun over seas you 'd be helping our country because when luke was in seagoing cowboy program it was 1945 and world war 2 was happening in europe and he had to those countries recover luke had to help the horses when the war was over to get people places and to work if you were 18 or up you might be lucky and be drafted into the military service the unrra would hire seagoing cowboys to feed the horses cows and mules that were shipped overseas you 'd be traveling around they world like luke did it took luke 2 weeks to cross the atlantic ocean from the eastern coast you 'd be traveling to china europe greece and many more places the only way you 'd be good at this job is if you would n't get sea sick because if you are a seagoing cowboy told travel overseas a lot you 'd have fun overseas if you do n't get seasick you 'd have many adventures you 'd have many stories to tell your friends and family you 'd been in countries you 'd did n't think you 'd be in you 'd be able to play games in the countries you visit in the seagoing cowboys program if you join the seagoing cowboys program you 'd love it you 'd be traveling you 'd be having fun you 'd be helping our country so why do n't you join our seagoing cowboy program i bet you 'd love to be in this program with all our helpful friends and family that want to try to help our country \"]\n"
          ]
        }
      ]
    },
    {
      "cell_type": "code",
      "source": [
        "X_train_preproc = preprocess(data['full_text'])\n",
        "y_train = list(data['score'])"
      ],
      "metadata": {
        "colab": {
          "base_uri": "https://localhost:8080/",
          "height": 49,
          "referenced_widgets": [
            "c9589c2c9fc843c79c0fc76e38c68bf6",
            "cfd4e5fde2194aaebf5f59acad3a8022",
            "49b7f04cc47e4b3e8589ae3a60bd6c3a",
            "1e7ae0720f154e37b63d1ff8a50193f7",
            "0f1285b78894481d97e7927d8db7e7d9",
            "e23a5e9413d645ce845a87116b08961a",
            "e32a9741ccce4e43b306634d0a3a669b",
            "f268a4f2ca2d4e58bcfddf38d2121ed3",
            "a54c9f4330344096ae9cacbe141dc2dd",
            "d3e5d14fce954bf09ab6c8c7c280b02b",
            "19d83fc16a39486c8f04e1c9f6c6a970"
          ]
        },
        "id": "Sb5H9ZNvD8LQ",
        "outputId": "5fae639f-ea25-4a51-cf23-ca52f1af7c00"
      },
      "execution_count": 13,
      "outputs": [
        {
          "output_type": "display_data",
          "data": {
            "text/plain": [
              "  0%|          | 0/17307 [00:00<?, ?it/s]"
            ],
            "application/vnd.jupyter.widget-view+json": {
              "version_major": 2,
              "version_minor": 0,
              "model_id": "c9589c2c9fc843c79c0fc76e38c68bf6"
            }
          },
          "metadata": {}
        }
      ]
    },
    {
      "cell_type": "code",
      "source": [
        "X_train_slice, X_test_slice, y_train, y_test = train_test_split(X_train_preproc, y_train, random_state=42)"
      ],
      "metadata": {
        "id": "rPVU5Z0FBmr8"
      },
      "execution_count": 14,
      "outputs": []
    },
    {
      "cell_type": "code",
      "source": [
        "tfidf = TfidfVectorizer(min_df = 3)\n",
        "model = LogisticRegression(verbose=1, max_iter = 1000, solver = 'sag')"
      ],
      "metadata": {
        "id": "4aIihTiqEre8"
      },
      "execution_count": 15,
      "outputs": []
    },
    {
      "cell_type": "code",
      "source": [
        "pipe = Pipeline([(\"tfidf\", tfidf), (\"logreg\", model)])"
      ],
      "metadata": {
        "id": "SsnkijiAGZwN"
      },
      "execution_count": 17,
      "outputs": []
    },
    {
      "cell_type": "code",
      "source": [
        "pipe.fit(X_train_slice, y_train)"
      ],
      "metadata": {
        "colab": {
          "base_uri": "https://localhost:8080/",
          "height": 142
        },
        "id": "1e2ULmhaGyx6",
        "outputId": "e8a5e9c3-9f91-480f-c84e-d37e0902ab46"
      },
      "execution_count": 18,
      "outputs": [
        {
          "output_type": "stream",
          "name": "stdout",
          "text": [
            "convergence after 61 epochs took 10 seconds\n"
          ]
        },
        {
          "output_type": "execute_result",
          "data": {
            "text/plain": [
              "Pipeline(steps=[('tfidf', TfidfVectorizer(min_df=3)),\n",
              "                ('logreg',\n",
              "                 LogisticRegression(max_iter=1000, solver='sag', verbose=1))])"
            ],
            "text/html": [
              "<style>#sk-container-id-1 {color: black;background-color: white;}#sk-container-id-1 pre{padding: 0;}#sk-container-id-1 div.sk-toggleable {background-color: white;}#sk-container-id-1 label.sk-toggleable__label {cursor: pointer;display: block;width: 100%;margin-bottom: 0;padding: 0.3em;box-sizing: border-box;text-align: center;}#sk-container-id-1 label.sk-toggleable__label-arrow:before {content: \"▸\";float: left;margin-right: 0.25em;color: #696969;}#sk-container-id-1 label.sk-toggleable__label-arrow:hover:before {color: black;}#sk-container-id-1 div.sk-estimator:hover label.sk-toggleable__label-arrow:before {color: black;}#sk-container-id-1 div.sk-toggleable__content {max-height: 0;max-width: 0;overflow: hidden;text-align: left;background-color: #f0f8ff;}#sk-container-id-1 div.sk-toggleable__content pre {margin: 0.2em;color: black;border-radius: 0.25em;background-color: #f0f8ff;}#sk-container-id-1 input.sk-toggleable__control:checked~div.sk-toggleable__content {max-height: 200px;max-width: 100%;overflow: auto;}#sk-container-id-1 input.sk-toggleable__control:checked~label.sk-toggleable__label-arrow:before {content: \"▾\";}#sk-container-id-1 div.sk-estimator input.sk-toggleable__control:checked~label.sk-toggleable__label {background-color: #d4ebff;}#sk-container-id-1 div.sk-label input.sk-toggleable__control:checked~label.sk-toggleable__label {background-color: #d4ebff;}#sk-container-id-1 input.sk-hidden--visually {border: 0;clip: rect(1px 1px 1px 1px);clip: rect(1px, 1px, 1px, 1px);height: 1px;margin: -1px;overflow: hidden;padding: 0;position: absolute;width: 1px;}#sk-container-id-1 div.sk-estimator {font-family: monospace;background-color: #f0f8ff;border: 1px dotted black;border-radius: 0.25em;box-sizing: border-box;margin-bottom: 0.5em;}#sk-container-id-1 div.sk-estimator:hover {background-color: #d4ebff;}#sk-container-id-1 div.sk-parallel-item::after {content: \"\";width: 100%;border-bottom: 1px solid gray;flex-grow: 1;}#sk-container-id-1 div.sk-label:hover label.sk-toggleable__label {background-color: #d4ebff;}#sk-container-id-1 div.sk-serial::before {content: \"\";position: absolute;border-left: 1px solid gray;box-sizing: border-box;top: 0;bottom: 0;left: 50%;z-index: 0;}#sk-container-id-1 div.sk-serial {display: flex;flex-direction: column;align-items: center;background-color: white;padding-right: 0.2em;padding-left: 0.2em;position: relative;}#sk-container-id-1 div.sk-item {position: relative;z-index: 1;}#sk-container-id-1 div.sk-parallel {display: flex;align-items: stretch;justify-content: center;background-color: white;position: relative;}#sk-container-id-1 div.sk-item::before, #sk-container-id-1 div.sk-parallel-item::before {content: \"\";position: absolute;border-left: 1px solid gray;box-sizing: border-box;top: 0;bottom: 0;left: 50%;z-index: -1;}#sk-container-id-1 div.sk-parallel-item {display: flex;flex-direction: column;z-index: 1;position: relative;background-color: white;}#sk-container-id-1 div.sk-parallel-item:first-child::after {align-self: flex-end;width: 50%;}#sk-container-id-1 div.sk-parallel-item:last-child::after {align-self: flex-start;width: 50%;}#sk-container-id-1 div.sk-parallel-item:only-child::after {width: 0;}#sk-container-id-1 div.sk-dashed-wrapped {border: 1px dashed gray;margin: 0 0.4em 0.5em 0.4em;box-sizing: border-box;padding-bottom: 0.4em;background-color: white;}#sk-container-id-1 div.sk-label label {font-family: monospace;font-weight: bold;display: inline-block;line-height: 1.2em;}#sk-container-id-1 div.sk-label-container {text-align: center;}#sk-container-id-1 div.sk-container {/* jupyter's `normalize.less` sets `[hidden] { display: none; }` but bootstrap.min.css set `[hidden] { display: none !important; }` so we also need the `!important` here to be able to override the default hidden behavior on the sphinx rendered scikit-learn.org. See: https://github.com/scikit-learn/scikit-learn/issues/21755 */display: inline-block !important;position: relative;}#sk-container-id-1 div.sk-text-repr-fallback {display: none;}</style><div id=\"sk-container-id-1\" class=\"sk-top-container\"><div class=\"sk-text-repr-fallback\"><pre>Pipeline(steps=[(&#x27;tfidf&#x27;, TfidfVectorizer(min_df=3)),\n",
              "                (&#x27;logreg&#x27;,\n",
              "                 LogisticRegression(max_iter=1000, solver=&#x27;sag&#x27;, verbose=1))])</pre><b>In a Jupyter environment, please rerun this cell to show the HTML representation or trust the notebook. <br />On GitHub, the HTML representation is unable to render, please try loading this page with nbviewer.org.</b></div><div class=\"sk-container\" hidden><div class=\"sk-item sk-dashed-wrapped\"><div class=\"sk-label-container\"><div class=\"sk-label sk-toggleable\"><input class=\"sk-toggleable__control sk-hidden--visually\" id=\"sk-estimator-id-1\" type=\"checkbox\" ><label for=\"sk-estimator-id-1\" class=\"sk-toggleable__label sk-toggleable__label-arrow\">Pipeline</label><div class=\"sk-toggleable__content\"><pre>Pipeline(steps=[(&#x27;tfidf&#x27;, TfidfVectorizer(min_df=3)),\n",
              "                (&#x27;logreg&#x27;,\n",
              "                 LogisticRegression(max_iter=1000, solver=&#x27;sag&#x27;, verbose=1))])</pre></div></div></div><div class=\"sk-serial\"><div class=\"sk-item\"><div class=\"sk-estimator sk-toggleable\"><input class=\"sk-toggleable__control sk-hidden--visually\" id=\"sk-estimator-id-2\" type=\"checkbox\" ><label for=\"sk-estimator-id-2\" class=\"sk-toggleable__label sk-toggleable__label-arrow\">TfidfVectorizer</label><div class=\"sk-toggleable__content\"><pre>TfidfVectorizer(min_df=3)</pre></div></div></div><div class=\"sk-item\"><div class=\"sk-estimator sk-toggleable\"><input class=\"sk-toggleable__control sk-hidden--visually\" id=\"sk-estimator-id-3\" type=\"checkbox\" ><label for=\"sk-estimator-id-3\" class=\"sk-toggleable__label sk-toggleable__label-arrow\">LogisticRegression</label><div class=\"sk-toggleable__content\"><pre>LogisticRegression(max_iter=1000, solver=&#x27;sag&#x27;, verbose=1)</pre></div></div></div></div></div></div></div>"
            ]
          },
          "metadata": {},
          "execution_count": 18
        }
      ]
    },
    {
      "cell_type": "code",
      "source": [
        "y_pred = pipe.predict(X_test_slice)"
      ],
      "metadata": {
        "id": "LzZjYXjjH_yG"
      },
      "execution_count": 20,
      "outputs": []
    },
    {
      "cell_type": "code",
      "source": [
        "print(classification_report(y_test,y_pred))\n",
        "print(\"\\n\\n\")\n",
        "print(confusion_matrix(y_test,y_pred))\n",
        "print(accuracy_score(y_pred=y_pred, y_true=y_test))"
      ],
      "metadata": {
        "colab": {
          "base_uri": "https://localhost:8080/",
          "height": 0
        },
        "id": "OvDwNKLjIOB3",
        "outputId": "021bc9e4-4741-4f1e-db1b-635a1e8388d7"
      },
      "execution_count": 21,
      "outputs": [
        {
          "output_type": "stream",
          "name": "stdout",
          "text": [
            "              precision    recall  f1-score   support\n",
            "\n",
            "           1       0.70      0.30      0.42       326\n",
            "           2       0.54      0.52      0.53      1206\n",
            "           3       0.49      0.63      0.55      1574\n",
            "           4       0.46      0.47      0.47       938\n",
            "           5       0.55      0.05      0.09       239\n",
            "           6       0.00      0.00      0.00        44\n",
            "\n",
            "    accuracy                           0.50      4327\n",
            "   macro avg       0.46      0.33      0.34      4327\n",
            "weighted avg       0.51      0.50      0.49      4327\n",
            "\n",
            "\n",
            "\n",
            "\n",
            "[[ 97 188  35   6   0   0]\n",
            " [ 24 631 519  32   0   0]\n",
            " [ 14 317 992 250   1   0]\n",
            " [  3  34 451 443   7   0]\n",
            " [  0   1  42 184  12   0]\n",
            " [  0   0   0  42   2   0]]\n",
            "0.502657730529235\n"
          ]
        },
        {
          "output_type": "stream",
          "name": "stderr",
          "text": [
            "/usr/local/lib/python3.10/dist-packages/sklearn/metrics/_classification.py:1344: UndefinedMetricWarning: Precision and F-score are ill-defined and being set to 0.0 in labels with no predicted samples. Use `zero_division` parameter to control this behavior.\n",
            "  _warn_prf(average, modifier, msg_start, len(result))\n",
            "/usr/local/lib/python3.10/dist-packages/sklearn/metrics/_classification.py:1344: UndefinedMetricWarning: Precision and F-score are ill-defined and being set to 0.0 in labels with no predicted samples. Use `zero_division` parameter to control this behavior.\n",
            "  _warn_prf(average, modifier, msg_start, len(result))\n",
            "/usr/local/lib/python3.10/dist-packages/sklearn/metrics/_classification.py:1344: UndefinedMetricWarning: Precision and F-score are ill-defined and being set to 0.0 in labels with no predicted samples. Use `zero_division` parameter to control this behavior.\n",
            "  _warn_prf(average, modifier, msg_start, len(result))\n"
          ]
        }
      ]
    },
    {
      "cell_type": "code",
      "source": [
        "model_newton = LogisticRegression(verbose=1, max_iter = 1000, solver = 'newton-cg')"
      ],
      "metadata": {
        "id": "tFdWEY06mHTy"
      },
      "execution_count": 30,
      "outputs": []
    },
    {
      "cell_type": "code",
      "source": [
        "pipe_newton = Pipeline([(\"tfidf\", tfidf), (\"logreg\", model_newton)])"
      ],
      "metadata": {
        "id": "s2Sis7Wsl_15"
      },
      "execution_count": 31,
      "outputs": []
    },
    {
      "cell_type": "code",
      "source": [
        "pipe_newton.fit(X_train_slice, y_train)"
      ],
      "metadata": {
        "colab": {
          "base_uri": "https://localhost:8080/",
          "height": 125
        },
        "id": "-9f0nYskmcxC",
        "outputId": "8ae49f46-060a-4e06-e47d-eb1371b00222"
      },
      "execution_count": 32,
      "outputs": [
        {
          "output_type": "execute_result",
          "data": {
            "text/plain": [
              "Pipeline(steps=[('tfidf', TfidfVectorizer(min_df=3)),\n",
              "                ('logreg',\n",
              "                 LogisticRegression(max_iter=1000, solver='newton-cg',\n",
              "                                    verbose=1))])"
            ],
            "text/html": [
              "<style>#sk-container-id-2 {color: black;background-color: white;}#sk-container-id-2 pre{padding: 0;}#sk-container-id-2 div.sk-toggleable {background-color: white;}#sk-container-id-2 label.sk-toggleable__label {cursor: pointer;display: block;width: 100%;margin-bottom: 0;padding: 0.3em;box-sizing: border-box;text-align: center;}#sk-container-id-2 label.sk-toggleable__label-arrow:before {content: \"▸\";float: left;margin-right: 0.25em;color: #696969;}#sk-container-id-2 label.sk-toggleable__label-arrow:hover:before {color: black;}#sk-container-id-2 div.sk-estimator:hover label.sk-toggleable__label-arrow:before {color: black;}#sk-container-id-2 div.sk-toggleable__content {max-height: 0;max-width: 0;overflow: hidden;text-align: left;background-color: #f0f8ff;}#sk-container-id-2 div.sk-toggleable__content pre {margin: 0.2em;color: black;border-radius: 0.25em;background-color: #f0f8ff;}#sk-container-id-2 input.sk-toggleable__control:checked~div.sk-toggleable__content {max-height: 200px;max-width: 100%;overflow: auto;}#sk-container-id-2 input.sk-toggleable__control:checked~label.sk-toggleable__label-arrow:before {content: \"▾\";}#sk-container-id-2 div.sk-estimator input.sk-toggleable__control:checked~label.sk-toggleable__label {background-color: #d4ebff;}#sk-container-id-2 div.sk-label input.sk-toggleable__control:checked~label.sk-toggleable__label {background-color: #d4ebff;}#sk-container-id-2 input.sk-hidden--visually {border: 0;clip: rect(1px 1px 1px 1px);clip: rect(1px, 1px, 1px, 1px);height: 1px;margin: -1px;overflow: hidden;padding: 0;position: absolute;width: 1px;}#sk-container-id-2 div.sk-estimator {font-family: monospace;background-color: #f0f8ff;border: 1px dotted black;border-radius: 0.25em;box-sizing: border-box;margin-bottom: 0.5em;}#sk-container-id-2 div.sk-estimator:hover {background-color: #d4ebff;}#sk-container-id-2 div.sk-parallel-item::after {content: \"\";width: 100%;border-bottom: 1px solid gray;flex-grow: 1;}#sk-container-id-2 div.sk-label:hover label.sk-toggleable__label {background-color: #d4ebff;}#sk-container-id-2 div.sk-serial::before {content: \"\";position: absolute;border-left: 1px solid gray;box-sizing: border-box;top: 0;bottom: 0;left: 50%;z-index: 0;}#sk-container-id-2 div.sk-serial {display: flex;flex-direction: column;align-items: center;background-color: white;padding-right: 0.2em;padding-left: 0.2em;position: relative;}#sk-container-id-2 div.sk-item {position: relative;z-index: 1;}#sk-container-id-2 div.sk-parallel {display: flex;align-items: stretch;justify-content: center;background-color: white;position: relative;}#sk-container-id-2 div.sk-item::before, #sk-container-id-2 div.sk-parallel-item::before {content: \"\";position: absolute;border-left: 1px solid gray;box-sizing: border-box;top: 0;bottom: 0;left: 50%;z-index: -1;}#sk-container-id-2 div.sk-parallel-item {display: flex;flex-direction: column;z-index: 1;position: relative;background-color: white;}#sk-container-id-2 div.sk-parallel-item:first-child::after {align-self: flex-end;width: 50%;}#sk-container-id-2 div.sk-parallel-item:last-child::after {align-self: flex-start;width: 50%;}#sk-container-id-2 div.sk-parallel-item:only-child::after {width: 0;}#sk-container-id-2 div.sk-dashed-wrapped {border: 1px dashed gray;margin: 0 0.4em 0.5em 0.4em;box-sizing: border-box;padding-bottom: 0.4em;background-color: white;}#sk-container-id-2 div.sk-label label {font-family: monospace;font-weight: bold;display: inline-block;line-height: 1.2em;}#sk-container-id-2 div.sk-label-container {text-align: center;}#sk-container-id-2 div.sk-container {/* jupyter's `normalize.less` sets `[hidden] { display: none; }` but bootstrap.min.css set `[hidden] { display: none !important; }` so we also need the `!important` here to be able to override the default hidden behavior on the sphinx rendered scikit-learn.org. See: https://github.com/scikit-learn/scikit-learn/issues/21755 */display: inline-block !important;position: relative;}#sk-container-id-2 div.sk-text-repr-fallback {display: none;}</style><div id=\"sk-container-id-2\" class=\"sk-top-container\"><div class=\"sk-text-repr-fallback\"><pre>Pipeline(steps=[(&#x27;tfidf&#x27;, TfidfVectorizer(min_df=3)),\n",
              "                (&#x27;logreg&#x27;,\n",
              "                 LogisticRegression(max_iter=1000, solver=&#x27;newton-cg&#x27;,\n",
              "                                    verbose=1))])</pre><b>In a Jupyter environment, please rerun this cell to show the HTML representation or trust the notebook. <br />On GitHub, the HTML representation is unable to render, please try loading this page with nbviewer.org.</b></div><div class=\"sk-container\" hidden><div class=\"sk-item sk-dashed-wrapped\"><div class=\"sk-label-container\"><div class=\"sk-label sk-toggleable\"><input class=\"sk-toggleable__control sk-hidden--visually\" id=\"sk-estimator-id-4\" type=\"checkbox\" ><label for=\"sk-estimator-id-4\" class=\"sk-toggleable__label sk-toggleable__label-arrow\">Pipeline</label><div class=\"sk-toggleable__content\"><pre>Pipeline(steps=[(&#x27;tfidf&#x27;, TfidfVectorizer(min_df=3)),\n",
              "                (&#x27;logreg&#x27;,\n",
              "                 LogisticRegression(max_iter=1000, solver=&#x27;newton-cg&#x27;,\n",
              "                                    verbose=1))])</pre></div></div></div><div class=\"sk-serial\"><div class=\"sk-item\"><div class=\"sk-estimator sk-toggleable\"><input class=\"sk-toggleable__control sk-hidden--visually\" id=\"sk-estimator-id-5\" type=\"checkbox\" ><label for=\"sk-estimator-id-5\" class=\"sk-toggleable__label sk-toggleable__label-arrow\">TfidfVectorizer</label><div class=\"sk-toggleable__content\"><pre>TfidfVectorizer(min_df=3)</pre></div></div></div><div class=\"sk-item\"><div class=\"sk-estimator sk-toggleable\"><input class=\"sk-toggleable__control sk-hidden--visually\" id=\"sk-estimator-id-6\" type=\"checkbox\" ><label for=\"sk-estimator-id-6\" class=\"sk-toggleable__label sk-toggleable__label-arrow\">LogisticRegression</label><div class=\"sk-toggleable__content\"><pre>LogisticRegression(max_iter=1000, solver=&#x27;newton-cg&#x27;, verbose=1)</pre></div></div></div></div></div></div></div>"
            ]
          },
          "metadata": {},
          "execution_count": 32
        }
      ]
    },
    {
      "cell_type": "code",
      "source": [
        "y_pred = pipe_newton.predict(X_test_slice)"
      ],
      "metadata": {
        "id": "VqxDJsrAmijy"
      },
      "execution_count": 33,
      "outputs": []
    },
    {
      "cell_type": "code",
      "source": [
        "print(classification_report(y_test,y_pred))\n",
        "print(\"\\n\\n\")\n",
        "print(confusion_matrix(y_test,y_pred))\n",
        "print(accuracy_score(y_pred=y_pred, y_true=y_test))"
      ],
      "metadata": {
        "colab": {
          "base_uri": "https://localhost:8080/",
          "height": 0
        },
        "id": "p5aO8shVmpbZ",
        "outputId": "99abc0a0-7437-4b17-b36f-a6871aaba4a9"
      },
      "execution_count": 34,
      "outputs": [
        {
          "output_type": "stream",
          "name": "stdout",
          "text": [
            "              precision    recall  f1-score   support\n",
            "\n",
            "           1       0.70      0.30      0.42       326\n",
            "           2       0.54      0.52      0.53      1206\n",
            "           3       0.49      0.63      0.55      1574\n",
            "           4       0.46      0.47      0.47       938\n",
            "           5       0.55      0.05      0.09       239\n",
            "           6       0.00      0.00      0.00        44\n",
            "\n",
            "    accuracy                           0.50      4327\n",
            "   macro avg       0.46      0.33      0.34      4327\n",
            "weighted avg       0.51      0.50      0.49      4327\n",
            "\n",
            "\n",
            "\n",
            "\n",
            "[[ 97 188  35   6   0   0]\n",
            " [ 24 631 519  32   0   0]\n",
            " [ 14 317 992 250   1   0]\n",
            " [  3  34 451 443   7   0]\n",
            " [  0   1  42 184  12   0]\n",
            " [  0   0   0  42   2   0]]\n",
            "0.502657730529235\n"
          ]
        },
        {
          "output_type": "stream",
          "name": "stderr",
          "text": [
            "/usr/local/lib/python3.10/dist-packages/sklearn/metrics/_classification.py:1344: UndefinedMetricWarning: Precision and F-score are ill-defined and being set to 0.0 in labels with no predicted samples. Use `zero_division` parameter to control this behavior.\n",
            "  _warn_prf(average, modifier, msg_start, len(result))\n",
            "/usr/local/lib/python3.10/dist-packages/sklearn/metrics/_classification.py:1344: UndefinedMetricWarning: Precision and F-score are ill-defined and being set to 0.0 in labels with no predicted samples. Use `zero_division` parameter to control this behavior.\n",
            "  _warn_prf(average, modifier, msg_start, len(result))\n",
            "/usr/local/lib/python3.10/dist-packages/sklearn/metrics/_classification.py:1344: UndefinedMetricWarning: Precision and F-score are ill-defined and being set to 0.0 in labels with no predicted samples. Use `zero_division` parameter to control this behavior.\n",
            "  _warn_prf(average, modifier, msg_start, len(result))\n"
          ]
        }
      ]
    }
  ]
}